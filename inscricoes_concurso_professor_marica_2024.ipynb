{
 "cells": [
  {
   "cell_type": "markdown",
   "metadata": {},
   "source": [
    "## Análise de dados das inscrições para o concurso público da SEMED da Prefeitura de Maricá (2024)\n",
    "\n",
    "### Este projeto visa coletar, tratar e analisar os dados da Lista Geral Preliminar das inscrições confirmadas para o concurso público da SEMED da Prefeitura de Maricá\n",
    "### Url do arquivo: https://portal.coseac.uff.br/wp-content/uploads/sites/596/2024/04/Concurso-PMM-SEMED20241-ListaGeralPreliminardasinscricoesconfirmadas.pdf\n",
    "### Data de acesso: 02 de maio de 2024"
   ]
  },
  {
   "cell_type": "markdown",
   "metadata": {},
   "source": [
    "## Análise inicial do arquivo pdf\n",
    "### Número de páginas: 1994\n",
    "### Característiras: Todas as páginas apresentam-se padronizadas com a seguite estrutura:\n",
    "### - Cabeçalho;\n",
    "### - Conteúdo: \n",
    "Tabela com dados:\n",
    "    Colunas: Inscrição, Requerimento, Nome do Candidato, Data de Nascimento, Cargo, Tipo de Vaga.\n",
    "    Linhas: cada linha contém as informações sobre uma inscrição;\n",
    "### - Rodapé com legendas."
   ]
  },
  {
   "cell_type": "markdown",
   "metadata": {},
   "source": [
    "## Bibliotecas Python utilizadas:\n",
    "### - pdfplumber: para a leitura do arquivo\n",
    "### - pandas: para a limpeza e tratamento dos dados"
   ]
  },
  {
   "cell_type": "code",
   "execution_count": 2,
   "metadata": {
    "metadata": {}
   },
   "outputs": [],
   "source": [
    "import pandas as pd\n",
    "import pdfplumber"
   ]
  },
  {
   "cell_type": "markdown",
   "metadata": {},
   "source": [
    "### Código para auxílio na análise exploratória.\n",
    "### Verificando se os cabeçalhos de todas as páginas são iguais."
   ]
  },
  {
   "cell_type": "code",
   "execution_count": null,
   "metadata": {},
   "outputs": [],
   "source": [
    "path_to_file = \"Concurso-PMM-SEMED20241-ListaGeralPreliminardasinscricoesconfirmadas.pdf\"\n",
    "\n",
    "with pdfplumber.open(path_to_file) as pdf:\n",
    "    page_0_header = [pdf.pages[0].extract_text().split(\"\\n\")[i] for i in range(8) if i != 2]\n",
    "    \n",
    "    for i in range(0, 1994):\n",
    "        page = pdf.pages[i]\n",
    "        text = page.extract_text()\n",
    "        page_x_header = [text.split(\"\\n\")[i] for i in range(8) if i != 2]\n",
    "        \n",
    "        if page_0_header != page_x_header:\n",
    "            page_number = text.split(\"\\n\")[2]\n",
    "            advise = f'There is diferent header on the page {page_number}'\n",
    "            print(advise)\n",
    "            break\n",
    "    \n",
    "    print(\"All headers are the same!\")"
   ]
  },
  {
   "cell_type": "markdown",
   "metadata": {},
   "source": [
    "### Criando e preenchendo uma lista que será usada na geração do dataframe inicial.\n",
    "### Colunas selecionadas: Cargo pretendido e Tipo de vaga."
   ]
  },
  {
   "cell_type": "code",
   "execution_count": 7,
   "metadata": {},
   "outputs": [],
   "source": [
    "path_to_file = \"Concurso-PMM-SEMED20241-ListaGeralPreliminardasinscricoesconfirmadas.pdf\"\n",
    "all_lines_to_dataframe = [[\"Cargo\", \"TipoVaga\"]]"
   ]
  },
  {
   "cell_type": "code",
   "execution_count": 8,
   "metadata": {},
   "outputs": [],
   "source": [
    "def find_cargo_column(unformated_line):\n",
    "    docente_position = 0\n",
    "    for j in range(len(unformated_line)):\n",
    "        if \"Docente\" in unformated_line[j]:\n",
    "            docente_position = j\n",
    "    return(docente_position)"
   ]
  },
  {
   "cell_type": "code",
   "execution_count": 15,
   "metadata": {},
   "outputs": [],
   "source": [
    "with pdfplumber.open(path_to_file) as pdf:\n",
    "       \n",
    "    for i in range(1500, 1994):\n",
    "        page = pdf.pages[i]\n",
    "        text = page.extract_text()\n",
    "        \n",
    "        if \"Inscritos: 69770\" in text: #Verifica se é a última página\n",
    "            for i in range(8, 23):\n",
    "                unformated_line = text.split('\\n')[i].split(' ')\n",
    "                all_lines_to_dataframe.append([\" \".join(unformated_line[find_cargo_column(unformated_line):-1]), unformated_line[-1]])\n",
    "        else:\n",
    "            counter = 0\n",
    "            limit_line_number = 0\n",
    "            for line in text.split('\\n'):\n",
    "                counter = counter + 1\n",
    "                if \"Tipo de Vaga\" in line:\n",
    "                    limit_line_number = counter\n",
    "           \n",
    "            for i in range(8, limit_line_number-1):\n",
    "                unformated_line = text.split('\\n')[i].split(' ')\n",
    "                all_lines_to_dataframe.append([\" \".join(unformated_line[find_cargo_column(unformated_line):-1]), unformated_line[-1]])"
   ]
  },
  {
   "cell_type": "markdown",
   "metadata": {},
   "source": [
    "## Gerando o dataframe inicial"
   ]
  },
  {
   "cell_type": "code",
   "execution_count": null,
   "metadata": {},
   "outputs": [],
   "source": [
    "df = pd.DataFrame(all_lines_to_dataframe)\n",
    "df.columns = df.iloc[0]\n",
    "df = df[1:]\n",
    "df"
   ]
  },
  {
   "cell_type": "markdown",
   "metadata": {},
   "source": [
    "## Criação de uma arquivo .csv com os dados sobre Cargo e Tipo de Vaga"
   ]
  },
  {
   "cell_type": "code",
   "execution_count": 17,
   "metadata": {},
   "outputs": [],
   "source": [
    "df.to_csv('Marica_Cargo_TipoVaga.csv')"
   ]
  },
  {
   "cell_type": "markdown",
   "metadata": {},
   "source": [
    "## Análise prévia do arquivo csv gerado a partir dos dados originais"
   ]
  },
  {
   "cell_type": "code",
   "execution_count": 27,
   "metadata": {},
   "outputs": [
    {
     "data": {
      "text/html": [
       "<div>\n",
       "<style scoped>\n",
       "    .dataframe tbody tr th:only-of-type {\n",
       "        vertical-align: middle;\n",
       "    }\n",
       "\n",
       "    .dataframe tbody tr th {\n",
       "        vertical-align: top;\n",
       "    }\n",
       "\n",
       "    .dataframe thead th {\n",
       "        text-align: right;\n",
       "    }\n",
       "</style>\n",
       "<table border=\"1\" class=\"dataframe\">\n",
       "  <thead>\n",
       "    <tr style=\"text-align: right;\">\n",
       "      <th></th>\n",
       "      <th>Cargo</th>\n",
       "      <th>TipoVaga</th>\n",
       "    </tr>\n",
       "  </thead>\n",
       "  <tbody>\n",
       "    <tr>\n",
       "      <th>0</th>\n",
       "      <td>Docente I - Geografia</td>\n",
       "      <td>AC</td>\n",
       "    </tr>\n",
       "    <tr>\n",
       "      <th>1</th>\n",
       "      <td>Docente I - Ciências Físicas e Biológicas</td>\n",
       "      <td>AC</td>\n",
       "    </tr>\n",
       "    <tr>\n",
       "      <th>2</th>\n",
       "      <td>Docente I - Geografia</td>\n",
       "      <td>AC</td>\n",
       "    </tr>\n",
       "    <tr>\n",
       "      <th>3</th>\n",
       "      <td>Docente I - História</td>\n",
       "      <td>AC</td>\n",
       "    </tr>\n",
       "    <tr>\n",
       "      <th>4</th>\n",
       "      <td>Docente I - Educação Física</td>\n",
       "      <td>AC</td>\n",
       "    </tr>\n",
       "    <tr>\n",
       "      <th>...</th>\n",
       "      <td>...</td>\n",
       "      <td>...</td>\n",
       "    </tr>\n",
       "    <tr>\n",
       "      <th>69765</th>\n",
       "      <td>Docente I - História</td>\n",
       "      <td>AC</td>\n",
       "    </tr>\n",
       "    <tr>\n",
       "      <th>69766</th>\n",
       "      <td>Docente II</td>\n",
       "      <td>AC</td>\n",
       "    </tr>\n",
       "    <tr>\n",
       "      <th>69767</th>\n",
       "      <td>Docente II</td>\n",
       "      <td>AC</td>\n",
       "    </tr>\n",
       "    <tr>\n",
       "      <th>69768</th>\n",
       "      <td>Docente II</td>\n",
       "      <td>AC</td>\n",
       "    </tr>\n",
       "    <tr>\n",
       "      <th>69769</th>\n",
       "      <td>Docente II</td>\n",
       "      <td>AC</td>\n",
       "    </tr>\n",
       "  </tbody>\n",
       "</table>\n",
       "<p>69770 rows × 2 columns</p>\n",
       "</div>"
      ],
      "text/plain": [
       "                                           Cargo TipoVaga\n",
       "0                          Docente I - Geografia       AC\n",
       "1      Docente I - Ciências Físicas e Biológicas       AC\n",
       "2                          Docente I - Geografia       AC\n",
       "3                           Docente I - História       AC\n",
       "4                    Docente I - Educação Física       AC\n",
       "...                                          ...      ...\n",
       "69765                       Docente I - História       AC\n",
       "69766                                 Docente II       AC\n",
       "69767                                 Docente II       AC\n",
       "69768                                 Docente II       AC\n",
       "69769                                 Docente II       AC\n",
       "\n",
       "[69770 rows x 2 columns]"
      ]
     },
     "execution_count": 27,
     "metadata": {},
     "output_type": "execute_result"
    }
   ],
   "source": [
    "df_from_csv = pd.read_csv(\"Marica_Cargo_TipoVaga.csv\")\n",
    "df_from_csv = df_from_csv[[\"Cargo\", \"TipoVaga\"]]\n",
    "df_from_csv"
   ]
  },
  {
   "cell_type": "code",
   "execution_count": 28,
   "metadata": {},
   "outputs": [
    {
     "name": "stdout",
     "output_type": "stream",
     "text": [
      "<class 'pandas.core.frame.DataFrame'>\n",
      "RangeIndex: 69770 entries, 0 to 69769\n",
      "Data columns (total 2 columns):\n",
      " #   Column    Non-Null Count  Dtype \n",
      "---  ------    --------------  ----- \n",
      " 0   Cargo     69770 non-null  object\n",
      " 1   TipoVaga  69770 non-null  object\n",
      "dtypes: object(2)\n",
      "memory usage: 1.1+ MB\n"
     ]
    }
   ],
   "source": [
    "df_from_csv.info()"
   ]
  }
 ],
 "metadata": {
  "kernelspec": {
   "display_name": "venv",
   "language": "python",
   "name": "python3"
  },
  "language_info": {
   "codemirror_mode": {
    "name": "ipython",
    "version": 3
   },
   "file_extension": ".py",
   "mimetype": "text/x-python",
   "name": "python",
   "nbconvert_exporter": "python",
   "pygments_lexer": "ipython3",
   "version": "3.10.12"
  }
 },
 "nbformat": 4,
 "nbformat_minor": 2
}
