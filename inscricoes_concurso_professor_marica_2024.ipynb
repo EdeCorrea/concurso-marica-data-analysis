{
 "cells": [
  {
   "cell_type": "markdown",
   "metadata": {},
   "source": [
    "### Análise de dados das inscrições para o concurso público da SEMED da Prefeitura de Maricá (2024)\n",
    "\n",
    "Este projeto visa coletar, tratar e analisar os dados da Lista Geral Preliminar das inscrições confirmadas para o concurso público da SEMED da Prefeitura de Maricá\n",
    "Url do arquivo: https://portal.coseac.uff.br/wp-content/uploads/sites/596/2024/04/Concurso-PMM-SEMED20241-ListaGeralPreliminardasinscricoesconfirmadas.pdf\n",
    "Data de acesso: 02 de maio de 2024"
   ]
  },
  {
   "cell_type": "markdown",
   "metadata": {},
   "source": [
    "### Análise inicial do arquivo pdf\n",
    "Número de páginas: 1994\n",
    "\n",
    "Característiras: Todas as páginas apresentam-se padronizadas com a seguite estrutura:\n",
    "- Cabeçalho;\n",
    "- Tabela com as seguintes colunas: Inscrição, Requerimento, Nome do Candidato, Data de Nascimento, Cargo e Tipo de Vaga.\n",
    "- Rodapé com legendas.\n",
    "\n",
    "À esqueda, amostra de uma página do documento pdf;\n",
    "À direita, divisão do documento em três partes principais.\n",
    "\n",
    "\n",
    "<img src=\"img/amostra_pagina_documento.png\" height=\"400\"/>\n",
    "\n",
    "\n",
    "<img src=\"img/modelo_arquivo_marica.png\" height=\"400\" />"
   ]
  },
  {
   "cell_type": "markdown",
   "metadata": {},
   "source": [
    "### Bibliotecas Python utilizadas:\n",
    "- pdfplumber: para a leitura do arquivo\n",
    "- pandas: para a limpeza e tratamento dos dados\n",
    "- matplotlib: para geração de gráficos"
   ]
  },
  {
   "cell_type": "code",
   "execution_count": 39,
   "metadata": {
    "metadata": {}
   },
   "outputs": [],
   "source": [
    "import pandas as pd\n",
    "import pdfplumber\n",
    "import matplotlib.pyplot as plt"
   ]
  },
  {
   "cell_type": "markdown",
   "metadata": {},
   "source": [
    "### Leitura do arquivo .pdf\n",
    "Abrindo-se o arquivo pdf, verificou-se grande similaridade nas páginas.\n",
    "\n",
    "O código abaixo visa identificar o cabeçalho e a primeira linha da tabela (colunas) em cada página, automatizando o processo de verificação de similaridade das páginas;\n",
    "\n",
    "Essas colunas (primeira linha da tabela), por apresentarem quebra na linha serão formatadas posteriormente;\n",
    "\n",
    "Verifica-se que os cabeçalhos de todas as páginas tem a mesma estrutura: Inicia na linha 0 e vai até a linha 7;\n",
    "\n",
    "A última página contém o número total de inscrições: 69770.\n",
    "\n"
   ]
  },
  {
   "cell_type": "markdown",
   "metadata": {},
   "source": [
    "### Código para auxílio na análise exploratória.\n",
    "### Verificando se os cabeçalhos de todas as páginas são iguais."
   ]
  },
  {
   "cell_type": "code",
   "execution_count": 8,
   "metadata": {},
   "outputs": [
    {
     "name": "stdout",
     "output_type": "stream",
     "text": [
      "All headers are the same!\n"
     ]
    }
   ],
   "source": [
    "path_to_file = \"Concurso-PMM-SEMED20241-ListaGeralPreliminardasinscricoesconfirmadas.pdf\"\n",
    "\n",
    "with pdfplumber.open(path_to_file) as pdf:\n",
    "    page_0_header = [pdf.pages[0].extract_text().split(\"\\n\")[i] for i in range(8) if i != 2]\n",
    "    \n",
    "    for i in range(0, 1994):\n",
    "        page = pdf.pages[i]\n",
    "        text = page.extract_text()\n",
    "        page_x_header = [text.split(\"\\n\")[i] for i in range(8) if i != 2]\n",
    "        \n",
    "        if page_0_header != page_x_header:\n",
    "            page_number = text.split(\"\\n\")[2]\n",
    "            advise = f'There is diferent header on the page {page_number}'\n",
    "            print(advise)\n",
    "            break\n",
    "    \n",
    "    print(\"All headers are the same!\")"
   ]
  },
  {
   "cell_type": "markdown",
   "metadata": {},
   "source": [
    "### Criando e preenchendo uma lista que será usada na geração do dataframe inicial.\n",
    "### Colunas selecionadas: Cargo pretendido e Tipo de vaga."
   ]
  },
  {
   "cell_type": "code",
   "execution_count": 9,
   "metadata": {},
   "outputs": [],
   "source": [
    "path_to_file = \"Concurso-PMM-SEMED20241-ListaGeralPreliminardasinscricoesconfirmadas.pdf\"\n",
    "all_lines_to_dataframe = [[\"Cargo\", \"TipoVaga\"]]"
   ]
  },
  {
   "cell_type": "code",
   "execution_count": 10,
   "metadata": {},
   "outputs": [],
   "source": [
    "def find_cargo_column(unformated_line):\n",
    "    \"\"\"\n",
    "    Identifica a posição da palavra inicial do Cargo em uma linha.\n",
    "    \"\"\"\n",
    "    docente_position = 0\n",
    "    for j in range(len(unformated_line)):\n",
    "        if \"Docente\" in unformated_line[j]:\n",
    "            docente_position = j\n",
    "    return(docente_position)"
   ]
  },
  {
   "cell_type": "code",
   "execution_count": 17,
   "metadata": {},
   "outputs": [],
   "source": [
    "with pdfplumber.open(path_to_file) as pdf:\n",
    "       \n",
    "    for i in range(0, 1994):\n",
    "        page = pdf.pages[i]\n",
    "        text = page.extract_text()\n",
    "        \n",
    "        if \"Inscritos: 69770\" in text: #Verifica se é a última página\n",
    "            for i in range(8, 23):\n",
    "                unformated_line = text.split('\\n')[i].split(' ')\n",
    "                all_lines_to_dataframe.append([\" \".join(unformated_line[find_cargo_column(unformated_line):-1]), unformated_line[-1]])\n",
    "        else:\n",
    "            counter = 0\n",
    "            limit_line_number = 0\n",
    "            for line in text.split('\\n'):\n",
    "                counter = counter + 1\n",
    "                if \"Tipo de Vaga\" in line:\n",
    "                    limit_line_number = counter\n",
    "           \n",
    "            for i in range(8, limit_line_number-1):\n",
    "                unformated_line = text.split('\\n')[i].split(' ')\n",
    "                all_lines_to_dataframe.append([\" \".join(unformated_line[find_cargo_column(unformated_line):-1]), unformated_line[-1]])"
   ]
  },
  {
   "cell_type": "markdown",
   "metadata": {},
   "source": [
    "## Gerando o dataframe inicial"
   ]
  },
  {
   "cell_type": "code",
   "execution_count": 40,
   "metadata": {},
   "outputs": [
    {
     "data": {
      "text/html": [
       "<div>\n",
       "<style scoped>\n",
       "    .dataframe tbody tr th:only-of-type {\n",
       "        vertical-align: middle;\n",
       "    }\n",
       "\n",
       "    .dataframe tbody tr th {\n",
       "        vertical-align: top;\n",
       "    }\n",
       "\n",
       "    .dataframe thead th {\n",
       "        text-align: right;\n",
       "    }\n",
       "</style>\n",
       "<table border=\"1\" class=\"dataframe\">\n",
       "  <thead>\n",
       "    <tr style=\"text-align: right;\">\n",
       "      <th></th>\n",
       "      <th>Cargo</th>\n",
       "      <th>TipoVaga</th>\n",
       "    </tr>\n",
       "  </thead>\n",
       "  <tbody>\n",
       "    <tr>\n",
       "      <th>1</th>\n",
       "      <td>Docente I - Geografia</td>\n",
       "      <td>AC</td>\n",
       "    </tr>\n",
       "    <tr>\n",
       "      <th>2</th>\n",
       "      <td>Docente I - Ciências Físicas e Biológicas</td>\n",
       "      <td>AC</td>\n",
       "    </tr>\n",
       "    <tr>\n",
       "      <th>3</th>\n",
       "      <td>Docente I - Geografia</td>\n",
       "      <td>AC</td>\n",
       "    </tr>\n",
       "    <tr>\n",
       "      <th>4</th>\n",
       "      <td>Docente I - História</td>\n",
       "      <td>AC</td>\n",
       "    </tr>\n",
       "    <tr>\n",
       "      <th>5</th>\n",
       "      <td>Docente I - Educação Física</td>\n",
       "      <td>AC</td>\n",
       "    </tr>\n",
       "    <tr>\n",
       "      <th>...</th>\n",
       "      <td>...</td>\n",
       "      <td>...</td>\n",
       "    </tr>\n",
       "    <tr>\n",
       "      <th>69766</th>\n",
       "      <td>Docente I - História</td>\n",
       "      <td>AC</td>\n",
       "    </tr>\n",
       "    <tr>\n",
       "      <th>69767</th>\n",
       "      <td>Docente II</td>\n",
       "      <td>AC</td>\n",
       "    </tr>\n",
       "    <tr>\n",
       "      <th>69768</th>\n",
       "      <td>Docente II</td>\n",
       "      <td>AC</td>\n",
       "    </tr>\n",
       "    <tr>\n",
       "      <th>69769</th>\n",
       "      <td>Docente II</td>\n",
       "      <td>AC</td>\n",
       "    </tr>\n",
       "    <tr>\n",
       "      <th>69770</th>\n",
       "      <td>Docente II</td>\n",
       "      <td>AC</td>\n",
       "    </tr>\n",
       "  </tbody>\n",
       "</table>\n",
       "<p>69770 rows × 2 columns</p>\n",
       "</div>"
      ],
      "text/plain": [
       "0                                          Cargo TipoVaga\n",
       "1                          Docente I - Geografia       AC\n",
       "2      Docente I - Ciências Físicas e Biológicas       AC\n",
       "3                          Docente I - Geografia       AC\n",
       "4                           Docente I - História       AC\n",
       "5                    Docente I - Educação Física       AC\n",
       "...                                          ...      ...\n",
       "69766                       Docente I - História       AC\n",
       "69767                                 Docente II       AC\n",
       "69768                                 Docente II       AC\n",
       "69769                                 Docente II       AC\n",
       "69770                                 Docente II       AC\n",
       "\n",
       "[69770 rows x 2 columns]"
      ]
     },
     "execution_count": 40,
     "metadata": {},
     "output_type": "execute_result"
    }
   ],
   "source": [
    "df = pd.DataFrame(all_lines_to_dataframe)\n",
    "df.columns = df.iloc[0]\n",
    "df = df[1:]\n",
    "df"
   ]
  },
  {
   "cell_type": "markdown",
   "metadata": {},
   "source": [
    "## Criação de um arquivo .csv com os dados sobre Cargo e Tipo de Vaga"
   ]
  },
  {
   "cell_type": "code",
   "execution_count": 19,
   "metadata": {},
   "outputs": [],
   "source": [
    "df.to_csv('Marica_Cargo_TipoVaga.csv')"
   ]
  },
  {
   "cell_type": "markdown",
   "metadata": {},
   "source": [
    "## Análise prévia do arquivo csv gerado a partir dos dados originais"
   ]
  },
  {
   "cell_type": "code",
   "execution_count": 41,
   "metadata": {},
   "outputs": [
    {
     "data": {
      "text/html": [
       "<div>\n",
       "<style scoped>\n",
       "    .dataframe tbody tr th:only-of-type {\n",
       "        vertical-align: middle;\n",
       "    }\n",
       "\n",
       "    .dataframe tbody tr th {\n",
       "        vertical-align: top;\n",
       "    }\n",
       "\n",
       "    .dataframe thead th {\n",
       "        text-align: right;\n",
       "    }\n",
       "</style>\n",
       "<table border=\"1\" class=\"dataframe\">\n",
       "  <thead>\n",
       "    <tr style=\"text-align: right;\">\n",
       "      <th></th>\n",
       "      <th>Cargo</th>\n",
       "      <th>TipoVaga</th>\n",
       "    </tr>\n",
       "  </thead>\n",
       "  <tbody>\n",
       "    <tr>\n",
       "      <th>0</th>\n",
       "      <td>Docente I - Geografia</td>\n",
       "      <td>AC</td>\n",
       "    </tr>\n",
       "    <tr>\n",
       "      <th>1</th>\n",
       "      <td>Docente I - Ciências Físicas e Biológicas</td>\n",
       "      <td>AC</td>\n",
       "    </tr>\n",
       "    <tr>\n",
       "      <th>2</th>\n",
       "      <td>Docente I - Geografia</td>\n",
       "      <td>AC</td>\n",
       "    </tr>\n",
       "    <tr>\n",
       "      <th>3</th>\n",
       "      <td>Docente I - História</td>\n",
       "      <td>AC</td>\n",
       "    </tr>\n",
       "    <tr>\n",
       "      <th>4</th>\n",
       "      <td>Docente I - Educação Física</td>\n",
       "      <td>AC</td>\n",
       "    </tr>\n",
       "    <tr>\n",
       "      <th>...</th>\n",
       "      <td>...</td>\n",
       "      <td>...</td>\n",
       "    </tr>\n",
       "    <tr>\n",
       "      <th>69765</th>\n",
       "      <td>Docente I - História</td>\n",
       "      <td>AC</td>\n",
       "    </tr>\n",
       "    <tr>\n",
       "      <th>69766</th>\n",
       "      <td>Docente II</td>\n",
       "      <td>AC</td>\n",
       "    </tr>\n",
       "    <tr>\n",
       "      <th>69767</th>\n",
       "      <td>Docente II</td>\n",
       "      <td>AC</td>\n",
       "    </tr>\n",
       "    <tr>\n",
       "      <th>69768</th>\n",
       "      <td>Docente II</td>\n",
       "      <td>AC</td>\n",
       "    </tr>\n",
       "    <tr>\n",
       "      <th>69769</th>\n",
       "      <td>Docente II</td>\n",
       "      <td>AC</td>\n",
       "    </tr>\n",
       "  </tbody>\n",
       "</table>\n",
       "<p>69770 rows × 2 columns</p>\n",
       "</div>"
      ],
      "text/plain": [
       "                                           Cargo TipoVaga\n",
       "0                          Docente I - Geografia       AC\n",
       "1      Docente I - Ciências Físicas e Biológicas       AC\n",
       "2                          Docente I - Geografia       AC\n",
       "3                           Docente I - História       AC\n",
       "4                    Docente I - Educação Física       AC\n",
       "...                                          ...      ...\n",
       "69765                       Docente I - História       AC\n",
       "69766                                 Docente II       AC\n",
       "69767                                 Docente II       AC\n",
       "69768                                 Docente II       AC\n",
       "69769                                 Docente II       AC\n",
       "\n",
       "[69770 rows x 2 columns]"
      ]
     },
     "execution_count": 41,
     "metadata": {},
     "output_type": "execute_result"
    }
   ],
   "source": [
    "df_from_csv = pd.read_csv(\"Marica_Cargo_TipoVaga.csv\")\n",
    "df_from_csv = df_from_csv[[\"Cargo\", \"TipoVaga\"]]\n",
    "df_from_csv"
   ]
  },
  {
   "cell_type": "code",
   "execution_count": 42,
   "metadata": {},
   "outputs": [
    {
     "name": "stdout",
     "output_type": "stream",
     "text": [
      "<class 'pandas.core.frame.DataFrame'>\n",
      "RangeIndex: 69770 entries, 0 to 69769\n",
      "Data columns (total 2 columns):\n",
      " #   Column    Non-Null Count  Dtype \n",
      "---  ------    --------------  ----- \n",
      " 0   Cargo     69770 non-null  object\n",
      " 1   TipoVaga  69770 non-null  object\n",
      "dtypes: object(2)\n",
      "memory usage: 1.1+ MB\n"
     ]
    }
   ],
   "source": [
    "df_from_csv.info()"
   ]
  },
  {
   "cell_type": "markdown",
   "metadata": {},
   "source": [
    "## Agrupando os dados por Cargo"
   ]
  },
  {
   "cell_type": "code",
   "execution_count": 43,
   "metadata": {},
   "outputs": [
    {
     "data": {
      "text/html": [
       "<div>\n",
       "<style scoped>\n",
       "    .dataframe tbody tr th:only-of-type {\n",
       "        vertical-align: middle;\n",
       "    }\n",
       "\n",
       "    .dataframe tbody tr th {\n",
       "        vertical-align: top;\n",
       "    }\n",
       "\n",
       "    .dataframe thead th {\n",
       "        text-align: right;\n",
       "    }\n",
       "</style>\n",
       "<table border=\"1\" class=\"dataframe\">\n",
       "  <thead>\n",
       "    <tr style=\"text-align: right;\">\n",
       "      <th></th>\n",
       "      <th>Cargo</th>\n",
       "      <th>Total</th>\n",
       "    </tr>\n",
       "  </thead>\n",
       "  <tbody>\n",
       "    <tr>\n",
       "      <th>0</th>\n",
       "      <td>Docente I - Artes</td>\n",
       "      <td>2879</td>\n",
       "    </tr>\n",
       "    <tr>\n",
       "      <th>1</th>\n",
       "      <td>Docente I - Ciências Físicas e Biológicas</td>\n",
       "      <td>6409</td>\n",
       "    </tr>\n",
       "    <tr>\n",
       "      <th>2</th>\n",
       "      <td>Docente I - Educação Física</td>\n",
       "      <td>6806</td>\n",
       "    </tr>\n",
       "    <tr>\n",
       "      <th>3</th>\n",
       "      <td>Docente I - Geografia</td>\n",
       "      <td>3349</td>\n",
       "    </tr>\n",
       "    <tr>\n",
       "      <th>4</th>\n",
       "      <td>Docente I - História</td>\n",
       "      <td>5756</td>\n",
       "    </tr>\n",
       "    <tr>\n",
       "      <th>5</th>\n",
       "      <td>Docente I - Língua Estrangeira - Inglês</td>\n",
       "      <td>2410</td>\n",
       "    </tr>\n",
       "    <tr>\n",
       "      <th>6</th>\n",
       "      <td>Docente I - Língua Portuguesa</td>\n",
       "      <td>7806</td>\n",
       "    </tr>\n",
       "    <tr>\n",
       "      <th>7</th>\n",
       "      <td>Docente I - Matemática</td>\n",
       "      <td>5005</td>\n",
       "    </tr>\n",
       "    <tr>\n",
       "      <th>8</th>\n",
       "      <td>Docente II</td>\n",
       "      <td>29350</td>\n",
       "    </tr>\n",
       "  </tbody>\n",
       "</table>\n",
       "</div>"
      ],
      "text/plain": [
       "                                       Cargo  Total\n",
       "0                          Docente I - Artes   2879\n",
       "1  Docente I - Ciências Físicas e Biológicas   6409\n",
       "2                Docente I - Educação Física   6806\n",
       "3                      Docente I - Geografia   3349\n",
       "4                       Docente I - História   5756\n",
       "5    Docente I - Língua Estrangeira - Inglês   2410\n",
       "6              Docente I - Língua Portuguesa   7806\n",
       "7                     Docente I - Matemática   5005\n",
       "8                                 Docente II  29350"
      ]
     },
     "execution_count": 43,
     "metadata": {},
     "output_type": "execute_result"
    }
   ],
   "source": [
    "grouped_data_1 = df_from_csv.groupby([\"Cargo\"]).size().reset_index(name=\"Total\")\n",
    "grouped_data_1"
   ]
  },
  {
   "cell_type": "markdown",
   "metadata": {},
   "source": [
    "### Gerando gráfico de Setor"
   ]
  },
  {
   "cell_type": "code",
   "execution_count": 49,
   "metadata": {},
   "outputs": [
    {
     "data": {
      "image/png": "[encoded data removed]",
      "text/plain": [
       "<Figure size 500x500 with 1 Axes>"
      ]
     },
     "metadata": {},
     "output_type": "display_data"
    }
   ],
   "source": [
    "plt.figure(figsize=(5, 5))\n",
    "plt.pie(grouped_data_1['Total'], labels=grouped_data_1['Cargo'], autopct='%1.1f%%', startangle=0)\n",
    "plt.axis('equal')\n",
    "plt.title('Gráfico de Setor - Cargos')\n",
    "plt.show()"
   ]
  }
 ],
 "metadata": {
  "kernelspec": {
   "display_name": "venv",
   "language": "python",
   "name": "python3"
  },
  "language_info": {
   "codemirror_mode": {
    "name": "ipython",
    "version": 3
   },
   "file_extension": ".py",
   "mimetype": "text/x-python",
   "name": "python",
   "nbconvert_exporter": "python",
   "pygments_lexer": "ipython3",
   "version": "3.10.12"
  }
 },
 "nbformat": 4,
 "nbformat_minor": 2
}
